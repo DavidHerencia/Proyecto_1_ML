{
 "cells": [
  {
   "cell_type": "code",
   "execution_count": 226,
   "metadata": {},
   "outputs": [],
   "source": [
    "# Libraries\n",
    "import numpy as np\n",
    "import pandas as pd\n",
    "import seaborn as sns\n",
    "import matplotlib.pyplot as plt\n",
    "from scipy import stats\n",
    "import plotly.express as px\n",
    "\n",
    "import plotly.graph_objects as go"
   ]
  },
  {
   "cell_type": "markdown",
   "metadata": {},
   "source": [
    "#### Cargar data."
   ]
  },
  {
   "cell_type": "code",
   "execution_count": 227,
   "metadata": {},
   "outputs": [],
   "source": [
    "# Cargar data\n",
    "# Path to the file\n",
    "path_file_train = \"./datasets_procesados/train.csv\"\n",
    "path_file_test = \"./datasets_procesados/test.csv\"\n",
    "\n",
    "df_train = pd.read_csv(path_file_train)\n",
    "df_test = pd.read_csv(path_file_test)\n"
   ]
  },
  {
   "cell_type": "markdown",
   "metadata": {},
   "source": [
    "## Modelo\n",
    "\n",
    "Nota: Función de regresión no lineal\n",
    "$h(X) = X*W^t$"
   ]
  },
  {
   "cell_type": "code",
   "execution_count": 228,
   "metadata": {},
   "outputs": [],
   "source": [
    "def h(X, W):\n",
    "    return np.dot(X, W)"
   ]
  },
  {
   "cell_type": "markdown",
   "metadata": {},
   "source": [
    "## Loss function\n",
    "\n",
    "Con regularización _Ridge\n",
    "$\\mathcal{L} =  \\frac{||Y - XW^t||^2_2}{2n} + \\lambda||W||^2_2$\n",
    "\n",
    "Con regularización _Lasso\n",
    "$\\mathcal{L} =  \\frac{||Y - XW^t||_1}{2n} + \\lambda||W||_1$"
   ]
  },
  {
   "cell_type": "code",
   "execution_count": 229,
   "metadata": {},
   "outputs": [],
   "source": [
    "def Error(X, W, Y,lam):\n",
    "    # Calcula las predicciones del modelo\n",
    "    diff = h(X, W)\n",
    "    # Calcula el error cuadrático medio\n",
    "    error = (np.linalg.norm((Y - diff)) ** 2) / (2 * len(Y))\n",
    "    # Agrega el término de regularización Ridge\n",
    "    #error += lam * np.linalg.norm(W)\n",
    "    return error"
   ]
  },
  {
   "cell_type": "markdown",
   "metadata": {},
   "source": [
    "## Cálculo de derivadas\n",
    "\n",
    "\n",
    "$dw_j = \\frac{\\sum_{i=0}^m(y_i - h(x_i))(-x_{i}^j)}{n} + 2\\lambda w_j$"
   ]
  },
  {
   "cell_type": "code",
   "execution_count": 230,
   "metadata": {},
   "outputs": [],
   "source": [
    "def derivada(X, W, Y, lam):\n",
    "    diff = h(X, W) - Y\n",
    "    dw =  np.matmul(Y - diff,-X)/len(Y) + 2*lam*W\n",
    "    return dw"
   ]
  },
  {
   "cell_type": "markdown",
   "metadata": {},
   "source": [
    "## Actualiación de parámetros\n",
    "\n",
    "*   Elemento de la lista\n",
    "*   Elemento de la lista\n",
    "\n",
    "\n",
    "\n",
    "Recuerde: $\\frac{\\partial L}{\\partial w}$ representa un vector con todas las derivadas de la función de pérdida con rescto a W.\n",
    "\n",
    "$W  = W - \\alpha*\\frac{\\partial L}{\\partial W} $\n",
    "\n"
   ]
  },
  {
   "cell_type": "code",
   "execution_count": 231,
   "metadata": {},
   "outputs": [],
   "source": [
    "def update(W, dW, alpha):\n",
    "    return W - (alpha * dW)"
   ]
  },
  {
   "cell_type": "markdown",
   "metadata": {},
   "source": [
    "### Training"
   ]
  },
  {
   "cell_type": "code",
   "execution_count": 232,
   "metadata": {},
   "outputs": [],
   "source": [
    "def train(X, Y, epochs, alfa, lam):\n",
    "    np.random.seed(2001)\n",
    "    W = np.array([np.random.rand() for i in range(X.shape[1])])\n",
    "    L = Error(X, W, Y, lam)\n",
    "    loss = []\n",
    "    for i in range(epochs):\n",
    "        dW = derivada(X, W, Y, lam)\n",
    "        W = update(W, dW, alfa)\n",
    "        L = Error(X, W, Y, lam)\n",
    "        loss.append(L)\n",
    "        if i % 10000 == 0:\n",
    "            print(L)\n",
    "    return W, loss"
   ]
  },
  {
   "cell_type": "markdown",
   "metadata": {},
   "source": [
    "### Normalización de data"
   ]
  },
  {
   "cell_type": "code",
   "execution_count": 233,
   "metadata": {},
   "outputs": [],
   "source": [
    "def normalizar(x):\n",
    "    max = x.max()\n",
    "    min = x.min()\n",
    "    return (x - min) / (max - min)\n",
    "\n",
    "\n",
    "def desnormalizar(x, x_norm):\n",
    "    max = x.max()\n",
    "    min = x.min()\n",
    "    return x_norm * (max - min) + min"
   ]
  },
  {
   "cell_type": "code",
   "execution_count": 234,
   "metadata": {},
   "outputs": [],
   "source": [
    "# Convertir a numpy y normalizar  df_train y df_test\n",
    "# Convertir df_train a una matriz numpy\n",
    "train_np = df_train.to_numpy()\n",
    "# Extraer las características (X) y las etiquetas (Y)\n",
    "X = train_np[:, :-1]  \n",
    "Y = train_np[:, -1]\n",
    "\n",
    "\n",
    "X_TEST = df_test.to_numpy()  # Aqui se predecira para entregar\n",
    "X_TRAIN = X # Data completa\n",
    "\n",
    "X_norm = normalizar(X)\n",
    "Y_norm = normalizar(Y)"
   ]
  },
  {
   "cell_type": "markdown",
   "metadata": {},
   "source": [
    "### Randomly splitting data for training and testing\n",
    "*   Training $70$\\%\n",
    "*   Training $30$\\%"
   ]
  },
  {
   "cell_type": "code",
   "execution_count": 235,
   "metadata": {},
   "outputs": [],
   "source": [
    "from sklearn.model_selection import train_test_split\n",
    "\n",
    "X_train, X_test, Y_train, Y_test = train_test_split(X_norm, Y_norm, random_state=104, train_size=0.7,test_size=0.30, shuffle=True)\n",
    "\n",
    "# X_train = X_train.to_numpy()\n",
    "# X_test = X_test.to_numpy()\n",
    "# Y_train = np.concatenate(Y_train.to_numpy(), axis=0)\n",
    "# Y_test = np.concatenate(Y_test.to_numpy(), axis=0)\n",
    "Y_train = Y_train.ravel()\n",
    "Y_test = Y_test.ravel()"
   ]
  },
  {
   "cell_type": "markdown",
   "metadata": {},
   "source": [
    "### Testing"
   ]
  },
  {
   "cell_type": "code",
   "execution_count": 236,
   "metadata": {},
   "outputs": [],
   "source": [
    "def Testing(x_test, y_test, w):\n",
    "    n = len(y_test)\n",
    "    y_pred = []\n",
    "    matches = 0\n",
    "    for i in range(n):\n",
    "        pred = S(x_test[i], w)\n",
    "        y_pred.append(pred)\n",
    "        if round(pred) == y_test[i]:\n",
    "            matches += 1\n",
    "    print(\"Number of correct data: \", matches, \" out of \", n)\n",
    "    print(\"Accuracy: \", matches / n)\n"
   ]
  },
  {
   "cell_type": "markdown",
   "metadata": {},
   "source": [
    "## Training model"
   ]
  },
  {
   "cell_type": "code",
   "execution_count": 237,
   "metadata": {},
   "outputs": [],
   "source": [
    "def get_matriz(X, p):\n",
    "    m, n = X.shape\n",
    "    matriz = np.ones((m, 1))\n",
    "    for i in range(n):\n",
    "        arreglo = X[:, i : i + 1]\n",
    "        if arreglo.dtype == \"object\":\n",
    "            arreglo = arreglo.astype(\n",
    "                float\n",
    "            )  # Convertir a tipo float si los datos son cadenas\n",
    "        matriz_potencias = np.power(arreglo, np.arange(1, p + 1))\n",
    "        matriz = np.concatenate((matriz, matriz_potencias), axis=1)\n",
    "    return matriz\n",
    "\n",
    "def entrenar_con_70_30(epochs , alpha , lam, grado, X_train, Y_train, X_test):\n",
    "    ## Definir X\n",
    "    X_train = get_matriz(X_train, grado)\n",
    "    X_test = get_matriz(X_test, grado)\n",
    "\n",
    "    W,L  = train(X_train, Y_train, epochs, alpha, lam)\n",
    "    # Plotting the Loss Function vs Epochs\n",
    "    epochs_list = [i for i in range(epochs)]\n",
    "    plt.plot(epochs_list, L)\n",
    "    plt.xlabel(\"Epochs\")\n",
    "    plt.ylabel(\"Loss\")\n",
    "    plt.title(\"Loss vs Epochs\")\n",
    "    plt.show()\n",
    "\n",
    "    return W\n",
    "\n",
    "\n",
    "def entrenar_con_100(epochs, alpha, lam, grado, X_train, Y_train, X_test):\n",
    "    ## Definir X\n",
    "    X_train = get_matriz(X_train, grado)\n",
    "    X_test = get_matriz(X_test, grado)\n",
    "\n",
    "    W, L = train(X_train, Y_train, epochs, alpha, lam)\n",
    "    # Plotting the Loss Function vs Epochs\n",
    "    epochs_list = [i for i in range(epochs)]\n",
    "    plt.plot(epochs_list, L)\n",
    "    plt.xlabel(\"Epochs\")\n",
    "    plt.ylabel(\"Loss\")\n",
    "    plt.title(\"Loss vs Epochs\")\n",
    "    plt.show()\n",
    "\n",
    "    return W"
   ]
  },
  {
   "cell_type": "code",
   "execution_count": 238,
   "metadata": {},
   "outputs": [
    {
     "name": "stdout",
     "output_type": "stream",
     "text": [
      "0.14868462211270053\n",
      "0.002483727045105871\n",
      "0.00248372704443371\n",
      "0.00248372704443371\n",
      "0.00248372704443371\n"
     ]
    },
    {
     "data": {
      "image/png": "[encoded data removed]",
      "text/plain": [
       "<Figure size 640x480 with 1 Axes>"
      ]
     },
     "metadata": {},
     "output_type": "display_data"
    }
   ],
   "source": [
    "# Hyperparameters\n",
    "epochs = 50000\n",
    "alpha = 0.009\n",
    "lam = 0.1\n",
    "grado = 3\n",
    "\n",
    "W = entrenar_con_70_30(epochs, alpha, lam, grado, X_train, Y_train ,X_test )\n",
    "\n",
    "\n",
    "X_TRAIN = get_matriz(X_TRAIN, grado)\n",
    "X_TEST = get_matriz(X_TEST, grado)  ## Esta es la data de df_test"
   ]
  },
  {
   "cell_type": "markdown",
   "metadata": {},
   "source": [
    "## Predecir valores de test"
   ]
  },
  {
   "cell_type": "code",
   "execution_count": 239,
   "metadata": {},
   "outputs": [],
   "source": [
    "## Predecir la data de test:\n",
    "X_TEST = normalizar(X_TEST)\n",
    "Y_predecido = h(X_TEST,W)\n",
    "Y_predecido = desnormalizar(Y, Y_predecido)\n",
    "\n",
    "# Convertir el arreglo a un DataFrame de Pandas\n",
    "df_prediccion = pd.DataFrame({\"MTO_PIA\": Y_predecido})\n",
    "\n",
    "# Crear una serie de Pandas con IDs incrementales\n",
    "ids = pd.Series(range(1, len(df_prediccion) + 1), name=\"ID\")\n",
    "\n",
    "# Insertar la serie de IDs en el DataFrame antes de la columna 'MTO_PIA'\n",
    "df_prediccion.insert(0, \"ID\", ids)\n",
    "\n",
    "df_prediccion.to_csv(\"./data_predicion/Prediccion.csv\", index=False)"
   ]
  }
 ],
 "metadata": {
  "kernelspec": {
   "display_name": "venv",
   "language": "python",
   "name": "python3"
  },
  "language_info": {
   "codemirror_mode": {
    "name": "ipython",
    "version": 3
   },
   "file_extension": ".py",
   "mimetype": "text/x-python",
   "name": "python",
   "nbconvert_exporter": "python",
   "pygments_lexer": "ipython3",
   "version": "3.11.4"
  }
 },
 "nbformat": 4,
 "nbformat_minor": 2
}

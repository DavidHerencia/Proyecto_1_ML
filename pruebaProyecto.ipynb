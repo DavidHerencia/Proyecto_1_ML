{
  "nbformat": 4,
  "nbformat_minor": 0,
  "metadata": {
    "colab": {
      "provenance": []
    },
    "kernelspec": {
      "name": "python3",
      "display_name": "Python 3"
    },
    "language_info": {
      "name": "python"
    }
  },
  "cells": [
    {
      "cell_type": "code",
      "execution_count": null,
      "metadata": {
        "id": "OQxlpNAUPDqO"
      },
      "outputs": [],
      "source": [
        "#Libraries\n",
        "import numpy as np\n",
        "import pandas as pd\n",
        "import seaborn as sns\n",
        "import matplotlib.pyplot as plt"
      ]
    },
    {
      "cell_type": "code",
      "source": [
        "from google.colab import drive\n",
        "drive.mount('/content/drive')"
      ],
      "metadata": {
        "colab": {
          "base_uri": "https://localhost:8080/"
        },
        "id": "k6epqwEvPddi",
        "outputId": "f35664a0-a07a-4d24-b284-b7ee9cc67b7e"
      },
      "execution_count": null,
      "outputs": [
        {
          "output_type": "stream",
          "name": "stdout",
          "text": [
            "Drive already mounted at /content/drive; to attempt to forcibly remount, call drive.mount(\"/content/drive\", force_remount=True).\n"
          ]
        }
      ]
    },
    {
      "cell_type": "code",
      "source": [
        "# Path to the file\n",
        "\n",
        "path_file_train = '/content/train.csv'\n",
        "path_file_test = \"/content/test.csv\"\n",
        "path_file_meta = \"/content/metaData.csv\"\n",
        "\n",
        "df_train = pd.read_csv(path_file_train)\n",
        "df_test = pd.read_csv(path_file_test)\n",
        "df_meta = pd.read_csv(path_file_meta)"
      ],
      "metadata": {
        "id": "WzlHsLuqPfWM"
      },
      "execution_count": null,
      "outputs": []
    },
    {
      "cell_type": "code",
      "source": [
        "#para mostrar las primeras columnas\n",
        "# Ver las columnas del DataFrame df_train\n",
        "print(\"Columnas de df_train:\")\n",
        "print(df_train.columns)\n",
        "\n",
        "# Ver las columnas del DataFrame df_test\n",
        "print(\"\\nColumnas de df_test:\")\n",
        "print(df_test.columns)\n",
        "\n",
        "# Ver las columnas del DataFrame df_meta\n",
        "print(\"\\nColumnas de df_meta:\")\n",
        "print(df_meta.columns)"
      ],
      "metadata": {
        "colab": {
          "base_uri": "https://localhost:8080/"
        },
        "id": "nNDw0SokPxHL",
        "outputId": "27e68c12-e44f-4412-e7e2-f7deaab14bc4"
      },
      "execution_count": null,
      "outputs": [
        {
          "output_type": "stream",
          "name": "stdout",
          "text": [
            "Columnas de df_train:\n",
            "Index(['FECHA_CORTE', 'ANIO_EJEC', 'SECTOR', 'PLIEGO', 'UNIDAD_EJECUTORA',\n",
            "       'SEC_EJEC', 'PROGRAMA_PPTAL', 'TIPO_PROD_PROY', 'PRODUCTO_PROYECTO',\n",
            "       'TIPO_ACT_OBRA_ACCINV', 'ACT_OBRA_ACCINV', 'FUNCION', 'DIVISION_FN',\n",
            "       'GRUPO_FN', 'META', 'FINALIDAD', 'UNIDAD_MEDIDA', 'CANT_META_ANUAL',\n",
            "       'CANT_META_SEM', 'AVAN_FISICO_ANUAL', 'AVAN_FISICO_SEM', 'SEC_FUNC',\n",
            "       'DEPARTAMENTO', 'PROVINCIA', 'DISTRITO', 'UBIGEO', 'FUENTE_FINANC',\n",
            "       'RUBRO', 'CATEGORIA_GASTO', 'TIPO_TRANSACCION', 'GENERICA',\n",
            "       'SUBGENERICA', 'SUBGENERICA_DET', 'ESPECIFICA', 'ESPECIFICA_DET',\n",
            "       'MTO_PIA'],\n",
            "      dtype='object')\n",
            "\n",
            "Columnas de df_test:\n",
            "Index(['FECHA_CORTE', 'ANIO_EJEC', 'SECTOR', 'PLIEGO', 'UNIDAD_EJECUTORA',\n",
            "       'SEC_EJEC', 'PROGRAMA_PPTAL', 'TIPO_PROD_PROY', 'PRODUCTO_PROYECTO',\n",
            "       'TIPO_ACT_OBRA_ACCINV', 'ACT_OBRA_ACCINV', 'FUNCION', 'DIVISION_FN',\n",
            "       'GRUPO_FN', 'META', 'FINALIDAD', 'UNIDAD_MEDIDA', 'CANT_META_ANUAL',\n",
            "       'CANT_META_SEM', 'AVAN_FISICO_ANUAL', 'AVAN_FISICO_SEM', 'SEC_FUNC',\n",
            "       'DEPARTAMENTO', 'PROVINCIA', 'DISTRITO', 'UBIGEO', 'FUENTE_FINANC',\n",
            "       'RUBRO', 'CATEGORIA_GASTO', 'TIPO_TRANSACCION', 'GENERICA',\n",
            "       'SUBGENERICA', 'SUBGENERICA_DET', 'ESPECIFICA', 'ESPECIFICA_DET'],\n",
            "      dtype='object')\n",
            "\n",
            "Columnas de df_meta:\n",
            "Index(['Variable', 'Descripción', 'Tipo de dato', 'Tamaño',\n",
            "       'Recurso relacionado', 'Información Adicional '],\n",
            "      dtype='object')\n"
          ]
        }
      ]
    },
    {
      "cell_type": "code",
      "source": [
        "# Eliminar variables innecearias\n",
        "# Se eliminan las variables que no aportan información relevante al modelo (Las que están depsues de MTO_PIA).\n",
        "def remove_after_MTO_PIA(df, name_data, col_or_row):\n",
        "    if (col_or_row >= 2):  # To columns\n",
        "        pos_column = df.columns.get_loc(name_data) + 3 - col_or_row\n",
        "        df.drop(df.columns[pos_column:], axis=1 , inplace = True)\n",
        "    else:  # To rows = 1\n",
        "        pos_row = df[df[\"Variable\"] == name_data].index[0]+1\n",
        "        df.drop(df.index[pos_row:], axis=0, inplace=True)\n",
        "\n",
        "\n",
        "remove_after_MTO_PIA(df_train, \"MTO_PIA\", 2)\n",
        "remove_after_MTO_PIA(df_test, \"MTO_MODIFICACIONES\", 3)\n",
        "remove_after_MTO_PIA(df_meta, \"MTO_PIA\", 1)"
      ],
      "metadata": {
        "id": "fGCbknpxQYBc"
      },
      "execution_count": null,
      "outputs": []
    },
    {
      "cell_type": "code",
      "source": [
        "# Seleccionar las columnas SEC_FUNC, FINALIDAD y UNIDAD_MEDIDA en cada conjunto de datos\n",
        "columnas_analisis = ['SEC_FUNC', 'FINALIDAD', 'UNIDAD_MEDIDA']\n",
        "\n",
        "# Realizar el análisis en df_train\n",
        "df_train_seleccionado = df_train[columnas_analisis]\n",
        "\n",
        "# Realizar el análisis en df_test\n",
        "df_test_seleccionado = df_test[columnas_analisis]\n",
        "\n",
        "\n",
        "# Mostrar las primeras filas del conjunto de datos seleccionado para df_train\n",
        "print(\"\\nConjunto de datos seleccionado para df_train:\")\n",
        "print(df_train_seleccionado.head())\n",
        "\n",
        "# Mostrar las primeras filas del conjunto de datos seleccionado para df_test\n",
        "print(\"\\nConjunto de datos seleccionado para df_test:\")\n",
        "print(df_test_seleccionado.head())\n",
        "\n",
        "\n",
        "\n"
      ],
      "metadata": {
        "colab": {
          "base_uri": "https://localhost:8080/"
        },
        "id": "XSl6o0L_RGG7",
        "outputId": "7310c7b8-65de-41e1-eba8-cfa716a359f0"
      },
      "execution_count": null,
      "outputs": [
        {
          "output_type": "stream",
          "name": "stdout",
          "text": [
            "\n",
            "Conjunto de datos seleccionado para df_train:\n",
            "   SEC_FUNC  FINALIDAD  UNIDAD_MEDIDA\n",
            "0         9          2              8\n",
            "1        23          2              8\n",
            "2        41         12              1\n",
            "3         4          2              3\n",
            "4        10          2              8\n",
            "\n",
            "Conjunto de datos seleccionado para df_test:\n",
            "   SEC_FUNC                                          FINALIDAD  UNIDAD_MEDIDA\n",
            "0        39  0307250.FORTALECIMIENTO ARTICULADO DE LAS PRES...  00060.INFORME\n",
            "1        32  0251525.PROMOCION DE LA IMPLEMENTACION DE LAS ...  00060.INFORME\n",
            "2        29  0145711.OPERATIVIDAD DEL FONDO DE ESTIMULO AL ...  00060.INFORME\n",
            "3        29  0145711.OPERATIVIDAD DEL FONDO DE ESTIMULO AL ...  00060.INFORME\n",
            "4        12     0072183.ACCIONES DE PRENSA, IMAGEN Y PROTOCOLO  00060.INFORME\n"
          ]
        }
      ]
    },
    {
      "cell_type": "code",
      "source": [
        "#Label encoder se supone\n",
        "#Variables que usar SEC_FUNC,FINALIDAD Y UNIDAD_MEDIDA\n",
        "df_train.head()\n",
        "df_train.dtypes #para hallar los tipos object y cambiarlos a int mas adelante\n",
        "\n"
      ],
      "metadata": {
        "id": "Rxvgxs2Mm4eF"
      },
      "execution_count": null,
      "outputs": []
    },
    {
      "cell_type": "code",
      "source": [
        "#df_train['FINALIDAD'].unique()\n",
        "df_train['FINALIDAD'].value_counts()\n"
      ],
      "metadata": {
        "id": "cf2vC5E5puK8"
      },
      "execution_count": null,
      "outputs": []
    },
    {
      "cell_type": "code",
      "source": [
        "from sklearn.preprocessing import LabelEncoder #codigo base para que funcione el label\n",
        "label_encoder = LabelEncoder()\n",
        "print(label_encoder)"
      ],
      "metadata": {
        "colab": {
          "base_uri": "https://localhost:8080/"
        },
        "id": "H5oqMg9ZqtGG",
        "outputId": "8d63170d-e6a7-4aa3-9789-f6c5197065ef"
      },
      "execution_count": null,
      "outputs": [
        {
          "output_type": "stream",
          "name": "stdout",
          "text": [
            "LabelEncoder()\n"
          ]
        }
      ]
    },
    {
      "cell_type": "code",
      "source": [
        "df_train['FINALIDAD']= label_encoder.fit_transform(df_train['FINALIDAD']) #en los corchetes solo cambios las variables que queremos pasar de object a int\n",
        "df_train.head()\n",
        "'''\n",
        "se puede volver a probar con esto que los codigos se cambiaron\n",
        "#df_train['FINALIDAD'].unique()\n",
        "df_train['FINALIDAD'].value_counts()\n",
        "'''\n"
      ],
      "metadata": {
        "id": "Lg_qTS5csCU8"
      },
      "execution_count": null,
      "outputs": []
    },
    {
      "cell_type": "code",
      "source": [],
      "metadata": {
        "id": "nPT7P7cwtT9L"
      },
      "execution_count": null,
      "outputs": []
    },
    {
      "cell_type": "code",
      "source": [
        "'''\n",
        "import seaborn as sns\n",
        "import matplotlib.pyplot as plt\n",
        "\n",
        "#En caso quiera ver todas las graficas, que no creo xd\n",
        "# y la variable objetivo es 'MTO_PIA'\n",
        "\n",
        "# Obtener una lista de todas las columnas excepto 'MTO_PIA'\n",
        "columns_to_plot = df_train.columns.tolist()\n",
        "columns_to_plot.remove('MTO_PIA')\n",
        "\n",
        "# Crear gráficos de dispersión para cada columna con respecto a 'MTO_PIA'\n",
        "for column in columns_to_plot:\n",
        "    sns.scatterplot(data=df_train, x=column, y='MTO_PIA')\n",
        "    plt.title(f'{column} vs MTO_PIA')\n",
        "    plt.xlabel(column)\n",
        "    plt.ylabel('MTO_PIA')\n",
        "    plt.show()\n",
        "'''\n",
        "\n",
        "import seaborn as sns\n",
        "import matplotlib.pyplot as plt\n",
        "\n",
        "# Cambiamos las X por la variable a visualizar\n",
        "sns.scatterplot(data=df_train, x='FINALIDAD', y='MTO_PIA')\n",
        "plt.title('FINALIDAD vs MTO_PIA')\n",
        "plt.xlabel('FINALIDAD')\n",
        "plt.ylabel('MTO_PIA')\n",
        "plt.show()\n",
        "\n",
        "\n",
        "\n"
      ],
      "metadata": {
        "id": "Pj6044LAgOkJ"
      },
      "execution_count": null,
      "outputs": []
    },
    {
      "cell_type": "markdown",
      "source": [
        "Dos formas distintas de hacer la regresion lineal:"
      ],
      "metadata": {
        "id": "Exr125zP_j30"
      }
    },
    {
      "cell_type": "code",
      "source": [
        "from sklearn.linear_model import LinearRegression\n",
        "\n",
        "\n",
        "# Supongamos que tienes tus datos de entrenamiento preparados en X_train y Y_train\n",
        "# y 'FINALIDAD' es tu columna de característica\n",
        "\n",
        "\n",
        "model = LinearRegression()\n",
        "\n",
        "# Entrenar el modelo con 'FINALIDDAD' como característica y 'MTO_PIA' como variable objetivo\n",
        "X_train = df_train[['FINALIDAD']]  # Convertimos la columna 'FINALIDAD' en un DataFrame\n",
        "Y_train = df_train['MTO_PIA']\n",
        "model.fit(X_train, Y_train)\n",
        "\n",
        "# Hacer predicciones\n",
        "Y_pred_train = model.predict(X_train)\n",
        "\n",
        "# error cuadrático medio (MSE) o el coeficiente de determinación (R^2)\n",
        "from sklearn.metrics import mean_squared_error, r2_score\n",
        "\n",
        "mse_train = mean_squared_error(Y_train, Y_pred_train)\n",
        "r2_train = r2_score(Y_train, Y_pred_train)\n",
        "\n",
        "print(\"Error cuadrático medio (MSE) en los datos de entrenamiento:\", mse_train)\n",
        "print(\"Coeficiente de determinación (R^2) en los datos de entrenamiento:\", r2_train)"
      ],
      "metadata": {
        "colab": {
          "base_uri": "https://localhost:8080/"
        },
        "id": "lZ4BWwaL-RKi",
        "outputId": "be5b3231-e4cb-4b0e-c19b-e77636962db2"
      },
      "execution_count": null,
      "outputs": [
        {
          "output_type": "stream",
          "name": "stdout",
          "text": [
            "Error cuadrático medio (MSE) en los datos de entrenamiento: 33825517737.52875\n",
            "Coeficiente de determinación (R^2) en los datos de entrenamiento: 0.005462863958332842\n"
          ]
        }
      ]
    },
    {
      "cell_type": "code",
      "source": [
        "import numpy as np\n",
        "\n",
        "# Definir la función de hipótesis\n",
        "def h(X, W):\n",
        "    return np.dot(X, W)\n",
        "\n",
        "# Definir la función de pérdida\n",
        "def error(X, W, Y, lam):\n",
        "    n = len(Y)\n",
        "    return (np.linalg.norm(Y - h(X, W))**2) / (2 * n) + lam * np.linalg.norm(W)**2 / n\n",
        "\n",
        "# Calcular la derivada de la función de pérdida\n",
        "def derivada(X, W, Y, lam):\n",
        "    n = len(Y)\n",
        "    return np.matmul((Y - h(X, W)).T, -X) / n + 2 * lam * W / n\n",
        "\n",
        "# Actualizar los parámetros usando el descenso de gradiente\n",
        "def update(W, dW, alpha):\n",
        "    return W - alpha * dW\n",
        "\n",
        "# Datos X e Y\n",
        "X_train = df_train[['FINALIDAD']].values  # Selecciona la columna 'FINALIDAD' como característica\n",
        "Y_train = df_train['MTO_PIA'].values\n",
        "\n",
        "# Inicializar los parámetros W (por ejemplo, con ceros)\n",
        "W = np.zeros(X_train.shape[1])\n",
        "\n",
        "# Hiperparámetros\n",
        "num_iteraciones = 1000\n",
        "lam = 0.1\n",
        "alpha = 0.01\n",
        "\n",
        "# Descenso de gradiente\n",
        "for iteracion in range(num_iteraciones):\n",
        "    dW = derivada(X_train, W, Y_train, lam)\n",
        "    W = update(W, dW, alpha)\n",
        "\n",
        "# Con los parámetros optimizados W, puedes hacer predicciones en nuevos datos\n",
        "\n"
      ],
      "metadata": {
        "id": "Y2zhbTAObxCu"
      },
      "execution_count": null,
      "outputs": []
    }
  ]
}